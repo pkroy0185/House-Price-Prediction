{
 "cells": [
  {
   "cell_type": "code",
   "execution_count": 40,
   "id": "vertical-product",
   "metadata": {},
   "outputs": [],
   "source": [
    "import pandas as pd\n",
    "import numpy as np\n",
    "import datetime as dt\n",
    "import matplotlib.pyplot as plt\n",
    "from sklearn.metrics import mean_squared_error as mse"
   ]
  },
  {
   "cell_type": "code",
   "execution_count": 41,
   "id": "direct-framework",
   "metadata": {},
   "outputs": [],
   "source": [
    "train_dataset = pd.read_csv('D:\\\\AdvancePython\\\\week2\\\\project2\\\\train.csv')\n",
    "test_dataset = pd.read_csv('D:\\\\AdvancePython\\\\week2\\\\project2\\\\test.csv')"
   ]
  },
  {
   "cell_type": "code",
   "execution_count": 42,
   "id": "developing-square",
   "metadata": {
    "scrolled": true
   },
   "outputs": [
    {
     "data": {
      "text/plain": [
       "6965"
      ]
     },
     "execution_count": 42,
     "metadata": {},
     "output_type": "execute_result"
    }
   ],
   "source": [
    "train_dataset.isna().sum().sum()"
   ]
  },
  {
   "cell_type": "code",
   "execution_count": 43,
   "id": "approximate-block",
   "metadata": {},
   "outputs": [
    {
     "data": {
      "text/plain": [
       "7000"
      ]
     },
     "execution_count": 43,
     "metadata": {},
     "output_type": "execute_result"
    }
   ],
   "source": [
    "test_dataset.isna().sum().sum()"
   ]
  },
  {
   "cell_type": "code",
   "execution_count": 44,
   "id": "subtle-soccer",
   "metadata": {},
   "outputs": [],
   "source": [
    "train_dataset .fillna(value=0,inplace=True)\n",
    "test_dataset.fillna(value=0,inplace=True)"
   ]
  },
  {
   "cell_type": "code",
   "execution_count": 45,
   "id": "processed-mason",
   "metadata": {},
   "outputs": [
    {
     "data": {
      "text/plain": [
       "0"
      ]
     },
     "execution_count": 45,
     "metadata": {},
     "output_type": "execute_result"
    }
   ],
   "source": [
    "train_dataset.isna().sum().sum()"
   ]
  },
  {
   "cell_type": "code",
   "execution_count": 46,
   "id": "contained-wednesday",
   "metadata": {},
   "outputs": [
    {
     "data": {
      "text/plain": [
       "0"
      ]
     },
     "execution_count": 46,
     "metadata": {},
     "output_type": "execute_result"
    }
   ],
   "source": [
    "test_dataset.isna().sum().sum()"
   ]
  },
  {
   "cell_type": "code",
   "execution_count": 47,
   "id": "renewable-prediction",
   "metadata": {},
   "outputs": [],
   "source": [
    "for i in train_dataset.columns:\n",
    "  if(train_dataset[i].dtype=='object'):\n",
    "    a=train_dataset[i].unique()\n",
    "    b=dict()\n",
    "    c=0\n",
    "    for j in a:\n",
    "      b.update({j:c})\n",
    "      c=c+1\n",
    "    train_dataset[i]=train_dataset[i].map(b)"
   ]
  },
  {
   "cell_type": "code",
   "execution_count": 48,
   "id": "angry-trailer",
   "metadata": {},
   "outputs": [],
   "source": [
    "for i in test_dataset.columns:\n",
    "  if(test_dataset[i].dtype=='object'):\n",
    "    a=test_dataset[i].unique()\n",
    "    b=dict()\n",
    "    c=0\n",
    "    for j in a:\n",
    "      b.update({j:c})\n",
    "      c=c+1\n",
    "    test_dataset[i]=test_dataset[i].map(b)"
   ]
  },
  {
   "cell_type": "code",
   "execution_count": 49,
   "id": "gothic-setup",
   "metadata": {},
   "outputs": [],
   "source": [
    "x=train_dataset.iloc[:, :-1].values\n",
    "y=train_dataset.iloc[:, -1].values\n",
    "\n",
    "x1=test_dataset.iloc[:,:].values\n"
   ]
  },
  {
   "cell_type": "code",
   "execution_count": 50,
   "id": "continuing-chance",
   "metadata": {
    "scrolled": true
   },
   "outputs": [
    {
     "name": "stdout",
     "output_type": "stream",
     "text": [
      "(1459, 80) (1460, 80) (1460,)\n"
     ]
    }
   ],
   "source": [
    "\n",
    "print(x1.shape,x.shape,y.shape)"
   ]
  },
  {
   "cell_type": "code",
   "execution_count": 51,
   "id": "dirty-ethernet",
   "metadata": {},
   "outputs": [
    {
     "data": {
      "text/plain": [
       "870063006.7886364"
      ]
     },
     "execution_count": 51,
     "metadata": {},
     "output_type": "execute_result"
    }
   ],
   "source": [
    "from sklearn.linear_model import LinearRegression\n",
    "regressor = LinearRegression()\n",
    "regressor.fit(x, y)\n",
    "y_pred = regressor.predict(x)\n",
    "y_pred1 = regressor.predict(x1)\n",
    "k = mse(y_pred, y)\n",
    "k"
   ]
  },
  {
   "cell_type": "code",
   "execution_count": 52,
   "id": "successful-robin",
   "metadata": {},
   "outputs": [
    {
     "data": {
      "text/plain": [
       "870063006.7886364"
      ]
     },
     "execution_count": 52,
     "metadata": {},
     "output_type": "execute_result"
    }
   ],
   "source": [
    "from sklearn.preprocessing import PolynomialFeatures\n",
    "p_reg = PolynomialFeatures(degree = 1)\n",
    "X_poly = p_reg.fit_transform(x)\n",
    "lin_reg = LinearRegression()\n",
    "lin_reg.fit(X_poly, y)\n",
    "lin_pred = lin_reg.predict(X_poly)\n",
    "lin_mse = mse(y,lin_pred)\n",
    "lin_mse"
   ]
  },
  {
   "cell_type": "code",
   "execution_count": 53,
   "id": "coupled-peripheral",
   "metadata": {},
   "outputs": [
    {
     "data": {
      "text/plain": [
       "127954452.61096472"
      ]
     },
     "execution_count": 53,
     "metadata": {},
     "output_type": "execute_result"
    }
   ],
   "source": [
    "from sklearn.ensemble import RandomForestRegressor\n",
    "rand_reg = RandomForestRegressor()\n",
    "rand_reg.fit(x, y)\n",
    "rand_pred = rand_reg.predict(x)\n",
    "rand_pred1 = rand_reg.predict(x1)\n",
    "rand_mse = mse(y,rand_pred)\n",
    "rand_mse"
   ]
  },
  {
   "cell_type": "code",
   "execution_count": 54,
   "id": "boxed-saturday",
   "metadata": {},
   "outputs": [
    {
     "name": "stdout",
     "output_type": "stream",
     "text": [
      "Variable: OverallQual          Importance: 0.58\n",
      "Variable: GrLivArea            Importance: 0.11\n",
      "Variable: TotalBsmtSF          Importance: 0.04\n",
      "Variable: 2ndFlrSF             Importance: 0.04\n",
      "Variable: BsmtFinSF1           Importance: 0.03\n",
      "Variable: 1stFlrSF             Importance: 0.02\n",
      "Variable: GarageCars           Importance: 0.02\n",
      "Variable: LotFrontage          Importance: 0.01\n",
      "Variable: LotArea              Importance: 0.01\n",
      "Variable: YearBuilt            Importance: 0.01\n",
      "Variable: YearRemodAdd         Importance: 0.01\n",
      "Variable: BsmtQual             Importance: 0.01\n",
      "Variable: TotRmsAbvGrd         Importance: 0.01\n",
      "Variable: GarageYrBlt          Importance: 0.01\n",
      "Variable: GarageArea           Importance: 0.01\n",
      "Variable: Id                   Importance: 0.0\n",
      "Variable: MSSubClass           Importance: 0.0\n",
      "Variable: MSZoning             Importance: 0.0\n",
      "Variable: Street               Importance: 0.0\n",
      "Variable: Alley                Importance: 0.0\n",
      "Variable: LotShape             Importance: 0.0\n",
      "Variable: LandContour          Importance: 0.0\n",
      "Variable: Utilities            Importance: 0.0\n",
      "Variable: LotConfig            Importance: 0.0\n",
      "Variable: LandSlope            Importance: 0.0\n",
      "Variable: Neighborhood         Importance: 0.0\n",
      "Variable: Condition1           Importance: 0.0\n",
      "Variable: Condition2           Importance: 0.0\n",
      "Variable: BldgType             Importance: 0.0\n",
      "Variable: HouseStyle           Importance: 0.0\n",
      "Variable: OverallCond          Importance: 0.0\n",
      "Variable: RoofStyle            Importance: 0.0\n",
      "Variable: RoofMatl             Importance: 0.0\n",
      "Variable: Exterior1st          Importance: 0.0\n",
      "Variable: Exterior2nd          Importance: 0.0\n",
      "Variable: MasVnrType           Importance: 0.0\n",
      "Variable: MasVnrArea           Importance: 0.0\n",
      "Variable: ExterQual            Importance: 0.0\n",
      "Variable: ExterCond            Importance: 0.0\n",
      "Variable: Foundation           Importance: 0.0\n",
      "Variable: BsmtCond             Importance: 0.0\n",
      "Variable: BsmtExposure         Importance: 0.0\n",
      "Variable: BsmtFinType1         Importance: 0.0\n",
      "Variable: BsmtFinType2         Importance: 0.0\n",
      "Variable: BsmtFinSF2           Importance: 0.0\n",
      "Variable: BsmtUnfSF            Importance: 0.0\n",
      "Variable: Heating              Importance: 0.0\n",
      "Variable: HeatingQC            Importance: 0.0\n",
      "Variable: CentralAir           Importance: 0.0\n",
      "Variable: Electrical           Importance: 0.0\n",
      "Variable: LowQualFinSF         Importance: 0.0\n",
      "Variable: BsmtFullBath         Importance: 0.0\n",
      "Variable: BsmtHalfBath         Importance: 0.0\n",
      "Variable: FullBath             Importance: 0.0\n",
      "Variable: HalfBath             Importance: 0.0\n",
      "Variable: BedroomAbvGr         Importance: 0.0\n",
      "Variable: KitchenAbvGr         Importance: 0.0\n",
      "Variable: KitchenQual          Importance: 0.0\n",
      "Variable: Functional           Importance: 0.0\n",
      "Variable: Fireplaces           Importance: 0.0\n",
      "Variable: FireplaceQu          Importance: 0.0\n",
      "Variable: GarageType           Importance: 0.0\n",
      "Variable: GarageFinish         Importance: 0.0\n",
      "Variable: GarageQual           Importance: 0.0\n",
      "Variable: GarageCond           Importance: 0.0\n",
      "Variable: PavedDrive           Importance: 0.0\n",
      "Variable: WoodDeckSF           Importance: 0.0\n",
      "Variable: OpenPorchSF          Importance: 0.0\n",
      "Variable: EnclosedPorch        Importance: 0.0\n",
      "Variable: 3SsnPorch            Importance: 0.0\n",
      "Variable: ScreenPorch          Importance: 0.0\n",
      "Variable: PoolArea             Importance: 0.0\n",
      "Variable: PoolQC               Importance: 0.0\n",
      "Variable: Fence                Importance: 0.0\n",
      "Variable: MiscFeature          Importance: 0.0\n",
      "Variable: MiscVal              Importance: 0.0\n",
      "Variable: MoSold               Importance: 0.0\n",
      "Variable: YrSold               Importance: 0.0\n",
      "Variable: SaleType             Importance: 0.0\n",
      "Variable: SaleCondition        Importance: 0.0\n"
     ]
    }
   ],
   "source": [
    "f=train_dataset.drop('SalePrice', axis = 1)\n",
    "f_list=list(f.columns)\n",
    "importances = list(rand_reg.feature_importances_)\n",
    "feature_importances = [(feature, round(importance, 2)) for feature, importance in zip(f, importances)]\n",
    "feature_importances = sorted(feature_importances, key = lambda x: x[1], reverse = True)\n",
    "[print('Variable: {:20} Importance: {}'.format(*pair)) for pair in feature_importances];"
   ]
  },
  {
   "cell_type": "code",
   "execution_count": 55,
   "id": "timely-business",
   "metadata": {},
   "outputs": [
    {
     "data": {
      "image/png": "[encoded data removed]",
      "text/plain": [
       "<Figure size 2160x720 with 1 Axes>"
      ]
     },
     "metadata": {
      "needs_background": "light"
     },
     "output_type": "display_data"
    }
   ],
   "source": [
    "import matplotlib.pyplot as plt\n",
    "x_values = list(range(len(importances)))\n",
    "plt.figure(figsize = (30,10))\n",
    "plt.bar(x_values, importances)\n",
    "#plt.xticks(x_values, train_dataset.columns,rotation='vertical')\n",
    "plt.ylabel('Importance'); plt.xlabel('Variable'); plt.title('Variable Importances');"
   ]
  },
  {
   "cell_type": "code",
   "execution_count": 56,
   "id": "further-gateway",
   "metadata": {},
   "outputs": [
    {
     "name": "stdout",
     "output_type": "stream",
     "text": [
      "Mean Absolute Error: 6526.34 degrees.\n",
      "Accuracy: 96.2 %.\n"
     ]
    }
   ],
   "source": [
    "errors = abs(rand_pred-y)\n",
    "print('Mean Absolute Error:', round(np.mean(errors), 2), 'degrees.')\n",
    "mape = 100 * (errors / y)\n",
    "accuracy = 100 - np.mean(mape)\n",
    "print('Accuracy:', round(accuracy, 2), '%.')"
   ]
  },
  {
   "cell_type": "code",
   "execution_count": 38,
   "id": "connected-dryer",
   "metadata": {},
   "outputs": [
    {
     "name": "stdout",
     "output_type": "stream",
     "text": [
      "Mean Absolute Error: 8067.53 degrees.\n",
      "Accuracy: 95.17 %.\n"
     ]
    }
   ],
   "source": [
    "rand_reg_most_important = RandomForestRegressor()\n",
    "important_indices = [f_list.index('OverallQual'),f_list.index('GrLivArea'),f_list.index('TotalBsmtSF'),f_list.index('2ndFlrSF'),f_list.index('BsmtFinSF1'),f_list.index('1stFlrSF')]\n",
    "train_important = x[:,important_indices]\n",
    "test_important = x1[:,important_indices]\n",
    "rand_reg_most_important.fit(train_important, y)\n",
    "predictions = rand_reg_most_important.predict(train_important)\n",
    "errors = abs(predictions - y)\n",
    "print('Mean Absolute Error:', round(np.mean(errors), 2), 'degrees.')\n",
    "mape = np.mean(100 * (errors / y))\n",
    "accuracy = 100 - mape\n",
    "print('Accuracy:', round(accuracy, 2), '%.')"
   ]
  },
  {
   "cell_type": "code",
   "execution_count": 57,
   "id": "supreme-sessions",
   "metadata": {},
   "outputs": [],
   "source": [
    "l=list(rand_pred)\n",
    "l.pop()\n",
    "submission_dataset=pd.DataFrame(l)\n",
    "submission_dataset.to_csv('sample_submission.csv')"
   ]
  },
  {
   "cell_type": "code",
   "execution_count": null,
   "id": "determined-relaxation",
   "metadata": {},
   "outputs": [],
   "source": []
  }
 ],
 "metadata": {
  "kernelspec": {
   "display_name": "Python 3",
   "language": "python",
   "name": "python3"
  },
  "language_info": {
   "codemirror_mode": {
    "name": "ipython",
    "version": 3
   },
   "file_extension": ".py",
   "mimetype": "text/x-python",
   "name": "python",
   "nbconvert_exporter": "python",
   "pygments_lexer": "ipython3",
   "version": "3.9.1"
  }
 },
 "nbformat": 4,
 "nbformat_minor": 5
}
